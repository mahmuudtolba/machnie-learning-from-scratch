{
 "cells": [
  {
   "cell_type": "code",
   "execution_count": 12,
   "id": "e79fda41",
   "metadata": {},
   "outputs": [],
   "source": [
    "import numpy as np\n",
    "from sklearn.model_selection import train_test_split\n",
    "from sklearn import datasets\n",
    "import matplotlib.pyplot as plt\n",
    "from sklearn.metrics import mean_squared_error"
   ]
  },
  {
   "cell_type": "code",
   "execution_count": 13,
   "id": "a4d38648",
   "metadata": {},
   "outputs": [],
   "source": [
    "class LinearRegressionMine:\n",
    "    \n",
    "    def __init__(self , lr = 0.001 ,n_iteration = 1000 ):\n",
    "        self.lr = lr\n",
    "        self.n_iteration = n_iteration\n",
    "        self.weight = None\n",
    "        self.bias = None\n",
    "        \n",
    "    def fit(self , x , y ):\n",
    "        n_sample , n_features = x.shape\n",
    "        self.weight = np.random.normal( 0, 0.1 , n_features)\n",
    "        self.bias = 0.1\n",
    "        \n",
    "        for _ in range(self.n_iteration):\n",
    "            y_pred = np.dot(x , self.weight) + self.bias\n",
    "            \n",
    "            dw = (2/n_sample) * np.dot(x.T , (y_pred - y))\n",
    "            db = (2/n_sample) * np.sum((y_pred - y)  )         \n",
    "            \n",
    "            self.weight -= self.lr * dw\n",
    "            self.bias -= self.lr * db\n",
    "            \n",
    "    def predict(self , x):\n",
    "        y_predict = np.dot(x , self.weight) + self.bias\n",
    "        return y_predict"
   ]
  },
  {
   "cell_type": "code",
   "execution_count": 14,
   "id": "545769db",
   "metadata": {},
   "outputs": [],
   "source": [
    "linear_regression = LinearRegressionMine()"
   ]
  },
  {
   "cell_type": "code",
   "execution_count": 15,
   "id": "552d910c",
   "metadata": {},
   "outputs": [],
   "source": [
    "X , y = datasets.make_regression(n_samples=10000 , n_features=20 , noise= 20 , random_state=1)\n",
    "X_train, X_test, y_train, y_test = train_test_split(X, y, test_size=0.2, random_state=1234)"
   ]
  },
  {
   "cell_type": "code",
   "execution_count": 16,
   "id": "e83465eb",
   "metadata": {},
   "outputs": [],
   "source": [
    "linear_regression.fit(X_train , y_train)"
   ]
  },
  {
   "cell_type": "code",
   "execution_count": 17,
   "id": "38dc75db",
   "metadata": {},
   "outputs": [
    {
     "data": {
      "text/plain": [
       "1069.9646535124818"
      ]
     },
     "execution_count": 17,
     "metadata": {},
     "output_type": "execute_result"
    }
   ],
   "source": [
    "mean_squared_error(y_test , linear_regression.predict(X_test))"
   ]
  }
 ],
 "metadata": {
  "kernelspec": {
   "display_name": "Python 3 (ipykernel)",
   "language": "python",
   "name": "python3"
  },
  "language_info": {
   "codemirror_mode": {
    "name": "ipython",
    "version": 3
   },
   "file_extension": ".py",
   "mimetype": "text/x-python",
   "name": "python",
   "nbconvert_exporter": "python",
   "pygments_lexer": "ipython3",
   "version": "3.9.7"
  }
 },
 "nbformat": 4,
 "nbformat_minor": 5
}
