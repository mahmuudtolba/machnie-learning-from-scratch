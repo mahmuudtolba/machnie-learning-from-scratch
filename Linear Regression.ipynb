{
 "cells": [
  {
   "cell_type": "code",
   "execution_count": 1,
   "id": "e79fda41",
   "metadata": {},
   "outputs": [],
   "source": [
    "import numpy as np\n",
    "from sklearn.model_selection import train_test_split\n",
    "from sklearn import datasets\n",
    "import matplotlib.pyplot as plt\n",
    "from sklearn.metrics import mean_squared_error"
   ]
  },
  {
   "cell_type": "code",
   "execution_count": 59,
   "id": "a4d38648",
   "metadata": {},
   "outputs": [],
   "source": [
    "class LinearRegressionMine:\n",
    "    \n",
    "    def __init__(self , lr = 0.001 ,n_iters = 1000 ):\n",
    "        self.lr = lr\n",
    "        self.n_iters = n_iters\n",
    "        self.weights = None\n",
    "        self.bias = None\n",
    "        \n",
    "    def fit(self, X, y):\n",
    "        n_samples, n_features = X.shape\n",
    "        self.weights = np.zeros(n_features)\n",
    "        self.bias = 0\n",
    "\n",
    "        for _ in range(self.n_iters):\n",
    "            idx = np.random.choice(n_samples , 30 , replace= False)\n",
    "            x_sample = X[idx]\n",
    "            y_sample = y[idx]\n",
    "            \n",
    "            y_pred = np.dot(x_sample, self.weights) + self.bias\n",
    "\n",
    "            dw = (1/n_samples) * np.dot(x_sample.T, (y_pred - y_sample))\n",
    "            db = (1/n_samples) * np.sum(y_pred - y_sample)\n",
    "\n",
    "            self.weights = self.weights - self.lr * dw\n",
    "            self.bias = self.bias - self.lr * db\n",
    "            \n",
    "    def predict(self , X):\n",
    "        y_pred = np.dot(X, self.weights)\n",
    "        return y_pred"
   ]
  },
  {
   "cell_type": "code",
   "execution_count": 60,
   "id": "545769db",
   "metadata": {},
   "outputs": [],
   "source": [
    "linear_regression = LinearRegressionMine(n_iters=1_000_000)"
   ]
  },
  {
   "cell_type": "code",
   "execution_count": 61,
   "id": "552d910c",
   "metadata": {},
   "outputs": [],
   "source": [
    "X , y = datasets.make_regression(n_samples=10000 , n_features=20 , noise= 20 , random_state=1)\n",
    "X_train, X_test, y_train, y_test = train_test_split(X, y, test_size=0.2, random_state=1234)"
   ]
  },
  {
   "cell_type": "code",
   "execution_count": 62,
   "id": "e83465eb",
   "metadata": {},
   "outputs": [],
   "source": [
    "linear_regression.fit(X_train , y_train)"
   ]
  },
  {
   "cell_type": "code",
   "execution_count": 63,
   "id": "62e417d0",
   "metadata": {},
   "outputs": [
    {
     "data": {
      "text/plain": [
       "432.1003273139337"
      ]
     },
     "execution_count": 63,
     "metadata": {},
     "output_type": "execute_result"
    }
   ],
   "source": [
    "mean_squared_error(y_test , linear_regression.predict(X_test))"
   ]
  }
 ],
 "metadata": {
  "kernelspec": {
   "display_name": "Python 3 (ipykernel)",
   "language": "python",
   "name": "python3"
  },
  "language_info": {
   "codemirror_mode": {
    "name": "ipython",
    "version": 3
   },
   "file_extension": ".py",
   "mimetype": "text/x-python",
   "name": "python",
   "nbconvert_exporter": "python",
   "pygments_lexer": "ipython3",
   "version": "3.9.7"
  }
 },
 "nbformat": 4,
 "nbformat_minor": 5
}
